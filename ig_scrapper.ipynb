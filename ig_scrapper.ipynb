{
 "cells": [
  {
   "cell_type": "code",
   "execution_count": 191,
   "metadata": {},
   "outputs": [],
   "source": [
    "#imports here\n",
    "from selenium import webdriver\n",
    "from selenium.webdriver.common.keys import Keys\n",
    "from selenium.webdriver.support import expected_conditions as EC\n",
    "from selenium.webdriver.common.by import By\n",
    "from selenium.webdriver.support.wait import WebDriverWait\n",
    "import time\n",
    "from webdriver_manager.chrome import ChromeDriverManager"
   ]
  },
  {
   "cell_type": "code",
   "execution_count": 309,
   "metadata": {},
   "outputs": [
    {
     "data": {
      "text/plain": [
       "1"
      ]
     },
     "execution_count": 309,
     "metadata": {},
     "output_type": "execute_result"
    }
   ],
   "source": [
    "def non_match_elements(list_a, list_b):\n",
    "    non_match = []\n",
    "    for i in list_a:\n",
    "        if i not in list_b:\n",
    "            non_match.append(i)\n",
    "    return non_match"
   ]
  },
  {
   "cell_type": "code",
   "execution_count": 192,
   "metadata": {},
   "outputs": [],
   "source": [
    "#scroll down\n",
    "#increase the range to sroll more\n",
    "def scroll(sleep_time, browser):\n",
    "    n_scrolls = 1\n",
    "    for j in range(0, n_scrolls):\n",
    "        browser.execute_script(\"window.scrollTo(0, document.body.scrollHeight);\")\n",
    "        time.sleep(sleep_time)"
   ]
  },
  {
   "cell_type": "code",
   "execution_count": 193,
   "metadata": {},
   "outputs": [],
   "source": [
    "def scroll_end(current_row_path, collections_names,row_class = \"_4k9vY\"):\n",
    "    founded = False\n",
    "    current_lenght = len(browser.find_elements(By.CLASS_NAME,row_class))\n",
    "    scroll(sleep_time, browser)\n",
    "    while (current_lenght != len(browser.find_elements(By.CLASS_NAME,row_class)) and len(browser.find_elements(By.XPATH,current_row_path)) < 0 ):\n",
    "        current_lenght = len(browser.find_elements(By.CLASS_NAME,row_class))\n",
    "        scroll(7, browser)\n",
    "    if (len(browser.find_elements(By.XPATH,current_row_path)) > 0 ):\n",
    "        founded = True\n",
    "    return founded"
   ]
  },
  {
   "cell_type": "code",
   "execution_count": 194,
   "metadata": {},
   "outputs": [],
   "source": [
    "def scroll_end2(collections_names,row_class = \"weEfm\"):\n",
    "    current_lenght = len(browser.find_elements(By.CLASS_NAME,row_class))\n",
    "    scroll(sleep_time, browser)\n",
    "    while (current_lenght != len(browser.find_elements(By.CLASS_NAME,row_class))):\n",
    "        current_lenght = len(browser.find_elements(By.CLASS_NAME,row_class))\n",
    "        scroll(sleep_time, browser)"
   ]
  },
  {
   "cell_type": "code",
   "execution_count": 323,
   "metadata": {},
   "outputs": [],
   "source": [
    "def scrollToFinish(browser):\n",
    "    test = browser.find_elements(By.CLASS_NAME,\"LjQVu\")\n",
    "    old_names = []\n",
    "    new_names = []\n",
    "    for tes in test:\n",
    "        old_names.append(tes.text)\n",
    "        \n",
    "    while True:  \n",
    "        missing_elem = None\n",
    "        browser.execute_script(\"window.scrollTo(0, document.body.scrollHeight);\")\n",
    "        time.sleep(3)\n",
    "        test2 = browser.find_elements(By.CLASS_NAME,\"LjQVu\")\n",
    "        for tes in test2:\n",
    "            if(tes.text not in new_names):\n",
    "                new_names.append(tes.text)\n",
    "        if len(non_match_elements(new_names, old_names)) > 0:\n",
    "            missing_elem = non_match_elements(new_names, old_names)\n",
    "            old_names = old_names + missing_elem\n",
    "        else:\n",
    "            break"
   ]
  },
  {
   "cell_type": "code",
   "execution_count": 339,
   "metadata": {},
   "outputs": [],
   "source": [
    "def scrollOnceAndCheck(browser, current_row_path,collections_names):\n",
    "    test = browser.find_elements(By.CLASS_NAME,\"LjQVu\")\n",
    "    old_names = []\n",
    "    new_names = []\n",
    "    for tes in test:\n",
    "        old_names.append(tes.text)\n",
    "        \n",
    "    while all(elem in collections_names  for elem in old_names):  \n",
    "        missing_elem = None\n",
    "        browser.execute_script(\"window.scrollTo(0, document.body.scrollHeight);\")\n",
    "        time.sleep(3)\n",
    "        test2 = browser.find_elements(By.CLASS_NAME,\"LjQVu\")\n",
    "        for tes in test2:\n",
    "            if(tes.text not in new_names):\n",
    "                new_names.append(tes.text)\n",
    "        if len(non_match_elements(new_names, old_names)) > 0:\n",
    "            missing_elem = non_match_elements(new_names, old_names)\n",
    "            old_names = old_names + missing_elem\n",
    "        else:\n",
    "            break\n"
   ]
  },
  {
   "cell_type": "code",
   "execution_count": 195,
   "metadata": {},
   "outputs": [
    {
     "name": "stderr",
     "output_type": "stream",
     "text": [
      "[WDM] - \n",
      "\n",
      "[WDM] - ====== WebDriver manager ======\n",
      "[WDM] - Current google-chrome version is 95.0.4638\n",
      "[WDM] - Get LATEST driver version for 95.0.4638\n",
      "[WDM] - Driver [C:\\Users\\Reda\\.wdm\\drivers\\chromedriver\\win32\\95.0.4638.54\\chromedriver.exe] found in cache\n",
      "C:\\Users\\Reda\\AppData\\Local\\Temp/ipykernel_9480/2881200563.py:2: DeprecationWarning: executable_path has been deprecated, please pass in a Service object\n",
      "  browser = webdriver.Chrome(ChromeDriverManager().install())\n"
     ]
    }
   ],
   "source": [
    "#specify the path to chromedriver.exe (download and save on your computer)\n",
    "browser = webdriver.Chrome(ChromeDriverManager().install())\n",
    "\n",
    "#open the webpage\n",
    "browser.get(\"http://www.instagram.com\")\n",
    "\n",
    "login = \"redahaddan\"\n",
    "pwd = \"jPXO7Ih771kSM7d\"\n",
    "\n",
    "#target username\n",
    "username = WebDriverWait(browser, 10).until(EC.element_to_be_clickable((By.CSS_SELECTOR, \"input[name='username']\")))\n",
    "password = WebDriverWait(browser, 10).until(EC.element_to_be_clickable((By.CSS_SELECTOR, \"input[name='password']\")))\n",
    "\n",
    "#enter username and password\n",
    "username.clear()\n",
    "username.send_keys(login)\n",
    "password.clear()\n",
    "password.send_keys(pwd)\n",
    "\n",
    "#target the login button and click it\n",
    "button = WebDriverWait(browser, 2).until(EC.element_to_be_clickable((By.CSS_SELECTOR, \"button[type='submit']\"))).click()\n",
    "\n",
    "#We are logged in!"
   ]
  },
  {
   "cell_type": "code",
   "execution_count": 327,
   "metadata": {},
   "outputs": [
    {
     "data": {
      "text/plain": [
       "['All posts',\n",
       " 'Sample',\n",
       " 'Well being',\n",
       " 'spirit',\n",
       " 'Social',\n",
       " 'vocals',\n",
       " 'mixing',\n",
       " 'compression',\n",
       " 'vst',\n",
       " 'buisness & monet',\n",
       " 'arangement',\n",
       " 'kick',\n",
       " 'music theory',\n",
       " 'work process',\n",
       " 'mastering',\n",
       " 'snare',\n",
       " 'technic',\n",
       " 'Qanun',\n",
       " 'hi-hats',\n",
       " 'drums',\n",
       " 'flute players',\n",
       " 'EQ',\n",
       " 'Bass',\n",
       " 'reverb',\n",
       " 'rappers',\n",
       " 'metro boomin',\n",
       " 'drake',\n",
       " 'distor/sat',\n",
       " 'Moroccan Rappers',\n",
       " 'Girls',\n",
       " 'guitarist',\n",
       " 'flute project',\n",
       " 'flstudio',\n",
       " 'collab',\n",
       " 'ideas',\n",
       " 'guitar',\n",
       " 'GuitarDep',\n",
       " 'mid/side',\n",
       " 'paning',\n",
       " 'Ideas',\n",
       " 'masking',\n",
       " 'Towatch',\n",
       " 'delay',\n",
       " 'SoundDesign',\n",
       " 'serum',\n",
       " 'live']"
      ]
     },
     "execution_count": 327,
     "metadata": {},
     "output_type": "execute_result"
    }
   ],
   "source": [
    "old_names"
   ]
  },
  {
   "cell_type": "code",
   "execution_count": 354,
   "metadata": {},
   "outputs": [
    {
     "name": "stdout",
     "output_type": "stream",
     "text": [
      "i : 1\n",
      "j : 1\n",
      "j : 2\n",
      "j : 3\n",
      "i : 2\n",
      "j : 1\n",
      "j : 2\n",
      "j : 3\n",
      "i : 3\n",
      "j : 1\n",
      "j : 2\n",
      "j : 3\n",
      "i : 4\n",
      "j : 1\n",
      "j : 2\n",
      "j : 3\n",
      "i : 5\n",
      "j : 1\n",
      "j : 2\n",
      "j : 3\n",
      "i : 6\n",
      "j : 1\n",
      "j : 2\n",
      "j : 3\n",
      "i : 7\n",
      "j : 1\n",
      "j : 2\n",
      "j : 3\n",
      "i : 8\n",
      "j : 1\n",
      "j : 2\n",
      "j : 3\n",
      "i : 9\n",
      "j : 1\n",
      "j : 2\n",
      "j : 3\n",
      "i : 10\n",
      "j : 1\n",
      "j : 2\n",
      "j : 3\n",
      "i : 11\n",
      "j : 1\n",
      "j : 2\n",
      "j : 3\n",
      "i : 12\n",
      "j : 1\n",
      "j : 2\n",
      "j : 3\n",
      "i : 13\n",
      "i : 1\n",
      "j : 1\n",
      "j : 2\n",
      "j : 3\n",
      "i : 2\n",
      "j : 1\n",
      "j : 2\n",
      "j : 3\n",
      "i : 3\n",
      "j : 1\n",
      "j : 2\n",
      "j : 3\n",
      "i : 4\n",
      "j : 1\n",
      "j : 2\n",
      "j : 3\n",
      "i : 5\n",
      "j : 1\n",
      "j : 2\n",
      "j : 3\n",
      "i : 6\n",
      "j : 1\n",
      "j : 2\n",
      "j : 3\n",
      "i : 7\n",
      "j : 1\n",
      "j : 2\n",
      "j : 3\n",
      "i : 8\n",
      "j : 1\n",
      "j : 2\n",
      "j : 3\n",
      "i : 9\n",
      "j : 1\n",
      "j : 2\n",
      "j : 3\n",
      "i : 10\n",
      "j : 1\n",
      "j : 2\n",
      "j : 3\n",
      "i : 11\n",
      "i : 1\n",
      "j : 1\n",
      "j : 2\n",
      "j : 3\n",
      "i : 2\n",
      "j : 1\n",
      "j : 2\n",
      "j : 3\n",
      "i : 3\n",
      "j : 1\n",
      "j : 2\n",
      "j : 3\n",
      "i : 4\n",
      "j : 1\n",
      "j : 2\n",
      "j : 3\n",
      "i : 5\n",
      "j : 1\n",
      "j : 2\n",
      "j : 3\n",
      "i : 6\n",
      "j : 1\n",
      "j : 2\n",
      "j : 3\n",
      "i : 7\n",
      "j : 1\n",
      "j : 2\n",
      "j : 3\n",
      "i : 8\n",
      "j : 1\n",
      "j : 2\n",
      "j : 3\n",
      "i : 9\n",
      "j : 1\n",
      "j : 2\n",
      "j : 3\n",
      "i : 10\n",
      "j : 1\n",
      "j : 2\n"
     ]
    },
    {
     "ename": "IndexError",
     "evalue": "list index out of range",
     "output_type": "error",
     "traceback": [
      "\u001b[1;31m---------------------------------------------------------------------------\u001b[0m",
      "\u001b[1;31mIndexError\u001b[0m                                Traceback (most recent call last)",
      "\u001b[1;32m~\\AppData\\Local\\Temp/ipykernel_9480/2201231868.py\u001b[0m in \u001b[0;36m<module>\u001b[1;34m\u001b[0m\n\u001b[0;32m     24\u001b[0m             \u001b[0mprint\u001b[0m\u001b[1;33m(\u001b[0m\u001b[1;34m'j : '\u001b[0m\u001b[1;33m+\u001b[0m\u001b[0mstr\u001b[0m\u001b[1;33m(\u001b[0m\u001b[0mj\u001b[0m\u001b[1;33m)\u001b[0m\u001b[1;33m)\u001b[0m\u001b[1;33m\u001b[0m\u001b[1;33m\u001b[0m\u001b[0m\n\u001b[0;32m     25\u001b[0m             \u001b[0mtime\u001b[0m\u001b[1;33m.\u001b[0m\u001b[0msleep\u001b[0m\u001b[1;33m(\u001b[0m\u001b[1;36m1\u001b[0m\u001b[1;33m)\u001b[0m\u001b[1;33m\u001b[0m\u001b[1;33m\u001b[0m\u001b[0m\n\u001b[1;32m---> 26\u001b[1;33m             \u001b[1;32mif\u001b[0m \u001b[0mlen\u001b[0m\u001b[1;33m(\u001b[0m\u001b[0mbrowser\u001b[0m\u001b[1;33m.\u001b[0m\u001b[0mfind_elements\u001b[0m\u001b[1;33m(\u001b[0m\u001b[0mBy\u001b[0m\u001b[1;33m.\u001b[0m\u001b[0mXPATH\u001b[0m\u001b[1;33m,\u001b[0m\u001b[0mcurrent_row_path\u001b[0m\u001b[1;33m+\u001b[0m\u001b[1;34m\"/div[\"\u001b[0m\u001b[1;33m+\u001b[0m\u001b[0mstr\u001b[0m\u001b[1;33m(\u001b[0m\u001b[0mj\u001b[0m\u001b[1;33m)\u001b[0m\u001b[1;33m+\u001b[0m\u001b[1;34m\"]\"\u001b[0m\u001b[1;33m)\u001b[0m\u001b[1;33m)\u001b[0m \u001b[1;33m>\u001b[0m \u001b[1;36m0\u001b[0m \u001b[1;32mand\u001b[0m \u001b[0mbrowser\u001b[0m\u001b[1;33m.\u001b[0m\u001b[0mfind_elements\u001b[0m\u001b[1;33m(\u001b[0m\u001b[0mBy\u001b[0m\u001b[1;33m.\u001b[0m\u001b[0mXPATH\u001b[0m\u001b[1;33m,\u001b[0m\u001b[0mcurrent_row_path\u001b[0m\u001b[1;33m+\u001b[0m\u001b[1;34m\"/div[\"\u001b[0m\u001b[1;33m+\u001b[0m\u001b[0mstr\u001b[0m\u001b[1;33m(\u001b[0m\u001b[0mj\u001b[0m\u001b[1;33m)\u001b[0m\u001b[1;33m+\u001b[0m\u001b[1;34m\"]\"\u001b[0m\u001b[1;33m+\u001b[0m\u001b[1;34m\"/div/div/div[2]/div/h3\"\u001b[0m\u001b[1;33m)\u001b[0m\u001b[1;33m[\u001b[0m\u001b[1;36m0\u001b[0m\u001b[1;33m]\u001b[0m\u001b[1;33m.\u001b[0m\u001b[0mtext\u001b[0m \u001b[1;32mnot\u001b[0m \u001b[1;32min\u001b[0m \u001b[0mcollections_names\u001b[0m\u001b[1;33m:\u001b[0m\u001b[1;33m\u001b[0m\u001b[1;33m\u001b[0m\u001b[0m\n\u001b[0m\u001b[0;32m     27\u001b[0m                 \u001b[0mcollections_names\u001b[0m\u001b[1;33m.\u001b[0m\u001b[0mappend\u001b[0m\u001b[1;33m(\u001b[0m\u001b[0mbrowser\u001b[0m\u001b[1;33m.\u001b[0m\u001b[0mfind_elements\u001b[0m\u001b[1;33m(\u001b[0m\u001b[0mBy\u001b[0m\u001b[1;33m.\u001b[0m\u001b[0mXPATH\u001b[0m\u001b[1;33m,\u001b[0m\u001b[0mcurrent_row_path\u001b[0m\u001b[1;33m+\u001b[0m\u001b[1;34m\"/div[\"\u001b[0m\u001b[1;33m+\u001b[0m\u001b[0mstr\u001b[0m\u001b[1;33m(\u001b[0m\u001b[0mj\u001b[0m\u001b[1;33m)\u001b[0m\u001b[1;33m+\u001b[0m\u001b[1;34m\"]\"\u001b[0m\u001b[1;33m+\u001b[0m\u001b[1;34m\"/div/div/div[2]/div/h3\"\u001b[0m\u001b[1;33m)\u001b[0m\u001b[1;33m[\u001b[0m\u001b[1;36m0\u001b[0m\u001b[1;33m]\u001b[0m\u001b[1;33m.\u001b[0m\u001b[0mtext\u001b[0m\u001b[1;33m)\u001b[0m\u001b[1;33m\u001b[0m\u001b[1;33m\u001b[0m\u001b[0m\n\u001b[0;32m     28\u001b[0m                 \u001b[0mbrowser\u001b[0m\u001b[1;33m.\u001b[0m\u001b[0mfind_elements\u001b[0m\u001b[1;33m(\u001b[0m\u001b[0mBy\u001b[0m\u001b[1;33m.\u001b[0m\u001b[0mXPATH\u001b[0m\u001b[1;33m,\u001b[0m\u001b[0mcurrent_row_path\u001b[0m\u001b[1;33m+\u001b[0m\u001b[1;34m\"/div[\"\u001b[0m\u001b[1;33m+\u001b[0m\u001b[0mstr\u001b[0m\u001b[1;33m(\u001b[0m\u001b[0mj\u001b[0m\u001b[1;33m)\u001b[0m\u001b[1;33m+\u001b[0m\u001b[1;34m\"]\"\u001b[0m\u001b[1;33m)\u001b[0m\u001b[1;33m[\u001b[0m\u001b[1;36m0\u001b[0m\u001b[1;33m]\u001b[0m\u001b[1;33m.\u001b[0m\u001b[0mclick\u001b[0m\u001b[1;33m(\u001b[0m\u001b[1;33m)\u001b[0m\u001b[1;33m\u001b[0m\u001b[1;33m\u001b[0m\u001b[0m\n",
      "\u001b[1;31mIndexError\u001b[0m: list index out of range"
     ]
    }
   ],
   "source": [
    "\"\"\" browser.get(\"http://www.instagram.com/\"+login+\"/saved/\") \"\"\"\n",
    "\n",
    "browser.find_elements(By.XPATH,\"/html/body/div[1]/section/nav/div[2]/div/div/div[3]/div/div[6]/span/img\")[0].click()\n",
    "time.sleep(2)\n",
    "browser.find_elements(By.XPATH,\"/html/body/div[1]/section/nav/div[2]/div/div/div[3]/div/div[6]/div[2]/div[2]/div[2]/a[2]/div\")[0].click()\n",
    "\n",
    "founded = False\n",
    "\n",
    "time.sleep(5)\n",
    "\n",
    "sleep_time = 1\n",
    "\n",
    "collections_names = []\n",
    "collections_urls = {}\n",
    "\n",
    "i = 1\n",
    "while(len(collections_names) != len(old_names)):\n",
    "    print('i : '+ str(i))\n",
    "    current_row_path = \"/html/body/div[1]/section/main/div/div[2]/div[2]/div/div/div[\"+str(i)+\"]\"\n",
    "    scrollOnceAndCheck(browser, current_row_path,collections_names)\n",
    "    if len(browser.find_elements(By.XPATH, current_row_path)) > 0:\n",
    "        j = 1\n",
    "        while (j<4):\n",
    "            print('j : '+str(j))\n",
    "            time.sleep(1)\n",
    "            if len(browser.find_elements(By.XPATH,current_row_path+\"/div[\"+str(j)+\"]\")) > 0 and browser.find_elements(By.XPATH,current_row_path+\"/div[\"+str(j)+\"]\"+\"/div/div/div[2]/div/h3\")[0].text not in collections_names:\n",
    "                collections_names.append(browser.find_elements(By.XPATH,current_row_path+\"/div[\"+str(j)+\"]\"+\"/div/div/div[2]/div/h3\")[0].text)\n",
    "                browser.find_elements(By.XPATH,current_row_path+\"/div[\"+str(j)+\"]\")[0].click()\n",
    "                collections_urls[collections_names[-1]] = browser.current_url\n",
    "                \"\"\" browser.execute_script(\"window.history.go(-1)\") \"\"\"\n",
    "                browser.find_elements(By.XPATH,\"/html/body/div[1]/section/nav/div[2]/div/div/div[3]/div/div[6]/span/img\")[0].click()\n",
    "                browser.find_elements(By.XPATH,\"/html/body/div[1]/section/nav/div[2]/div/div/div[3]/div/div[6]/div[2]/div[2]/div[2]/a[2]/div\")[0].click()\n",
    "                j+=1\n",
    "                continue\n",
    "            j+=1\n",
    "        i+=1\n",
    "        continue\n",
    "    else:\n",
    "        i = 1"
   ]
  },
  {
   "cell_type": "code",
   "execution_count": null,
   "metadata": {},
   "outputs": [
    {
     "name": "stderr",
     "output_type": "stream",
     "text": [
      "C:\\Users\\Reda\\anaconda3\\lib\\site-packages\\win_unicode_console\\__init__.py:31: RuntimeWarning: sys.stdin.encoding == 'utf-8', whereas sys.stdout.encoding == 'UTF-8', readline hook consumer may assume they are the same\n",
      "  readline_hook.enable(use_pyreadline=use_pyreadline)\n"
     ]
    }
   ],
   "source": [
    "from instaloader import *;"
   ]
  },
  {
   "cell_type": "code",
   "execution_count": 355,
   "metadata": {},
   "outputs": [
    {
     "name": "stdout",
     "output_type": "stream",
     "text": [
      "44\n",
      "46\n",
      "['Towatch', 'serum']\n",
      "[]\n"
     ]
    }
   ],
   "source": [
    "print(len(collections_names))\n",
    "print(len(old_names))\n",
    "print(non_match_elements(old_names,collections_names))\n",
    "print(non_match_elements(collections_names,old_names))"
   ]
  },
  {
   "cell_type": "code",
   "execution_count": 357,
   "metadata": {},
   "outputs": [],
   "source": [
    "collections_urls[\"Towatch\"] = \"https://www.instagram.com/redahaddan/saved/towatch/17999262424067657/\"\n",
    "collections_urls[\"serum\"] = \"https://www.instagram.com/redahaddan/saved/serum/17998542073098801/\""
   ]
  },
  {
   "cell_type": "code",
   "execution_count": 358,
   "metadata": {},
   "outputs": [],
   "source": [
    "collections_names.append(\"Towatch\")\n",
    "collections_names.append(\"serum\")"
   ]
  },
  {
   "cell_type": "code",
   "execution_count": null,
   "metadata": {},
   "outputs": [],
   "source": [
    "for collections_name in collections_names:\n",
    "    collections_url[collections_name] = "
   ]
  },
  {
   "cell_type": "code",
   "execution_count": 87,
   "metadata": {},
   "outputs": [],
   "source": [
    "from instaloader import *;"
   ]
  },
  {
   "cell_type": "code",
   "execution_count": 88,
   "metadata": {},
   "outputs": [],
   "source": [
    "L = instaloader.Instaloader(save_metadata=False, download_video_thumbnails=False)\n",
    "\n",
    "USER = \"redahaddan\"\n",
    "PASSWORD = \"jPXO7Ih771kSM7d\"\n",
    "\n",
    "L.login(USER, PASSWORD)"
   ]
  },
  {
   "cell_type": "code",
   "execution_count": null,
   "metadata": {},
   "outputs": [],
   "source": [
    "for collections_name in collections_names:\n",
    "    browser.get(collections_urls[collections_name])\n",
    "    scroll_end2(\"weEfm\")\n"
   ]
  },
  {
   "cell_type": "code",
   "execution_count": null,
   "metadata": {},
   "outputs": [],
   "source": [
    "test = browser.find_elements(By.CLASS_NAME,\"_bz0w\")\n",
    "links = []\n",
    "for tes in test:\n",
    "    links.append(tes.find_elements(By.TAG_NAME,\"a\")[0].get_attribute(\"href\"))"
   ]
  },
  {
   "cell_type": "code",
   "execution_count": 215,
   "metadata": {},
   "outputs": [],
   "source": [
    "scroll_end2(\"weEfm\")"
   ]
  },
  {
   "cell_type": "code",
   "execution_count": 234,
   "metadata": {},
   "outputs": [],
   "source": [
    "test = browser.find_elements(By.CLASS_NAME,\"LjQVu\")\n",
    "names = []\n",
    "for tes in test:\n",
    "    names.append(tes.text)"
   ]
  },
  {
   "cell_type": "code",
   "execution_count": 325,
   "metadata": {},
   "outputs": [],
   "source": [
    "scrollToFinish(browser)"
   ]
  }
 ],
 "metadata": {
  "interpreter": {
   "hash": "c8bf7ed05fbef5c9ff3345d142af8ad303ead8c4a9c90a99e7ad81acfc544e45"
  },
  "kernelspec": {
   "display_name": "Python 3.8.8 64-bit ('base': conda)",
   "name": "python3"
  },
  "language_info": {
   "codemirror_mode": {
    "name": "ipython",
    "version": 3
   },
   "file_extension": ".py",
   "mimetype": "text/x-python",
   "name": "python",
   "nbconvert_exporter": "python",
   "pygments_lexer": "ipython3",
   "version": "3.8.8"
  }
 },
 "nbformat": 4,
 "nbformat_minor": 2
}
