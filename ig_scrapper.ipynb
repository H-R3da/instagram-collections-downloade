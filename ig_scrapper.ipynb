{
 "cells": [
  {
   "cell_type": "code",
   "execution_count": 43,
   "metadata": {},
   "outputs": [],
   "source": [
    "#imports here\n",
    "from selenium import webdriver\n",
    "from selenium.webdriver.common.keys import Keys\n",
    "from selenium.webdriver.support import expected_conditions as EC\n",
    "from selenium.webdriver.common.by import By\n",
    "from selenium.webdriver.support.wait import WebDriverWait\n",
    "import time\n",
    "from webdriver_manager.chrome import ChromeDriverManager"
   ]
  },
  {
   "cell_type": "code",
   "execution_count": 44,
   "metadata": {},
   "outputs": [],
   "source": [
    "#scroll down\n",
    "#increase the range to sroll more\n",
    "def scroll(sleep_time, browser):\n",
    "    n_scrolls = 1\n",
    "    for j in range(0, n_scrolls):\n",
    "        browser.execute_script(\"window.scrollTo(0, document.body.scrollHeight);\")\n",
    "        time.sleep(sleep_time)"
   ]
  },
  {
   "cell_type": "code",
   "execution_count": 45,
   "metadata": {},
   "outputs": [],
   "source": [
    "def scroll_end(current_row_path, row_class = \"_4k9vY\"):\n",
    "    founded = False\n",
    "    current_lenght = len(browser.find_elements(By.CLASS_NAME,row_class))\n",
    "    scroll(sleep_time, browser)\n",
    "    while (current_lenght != len(browser.find_elements(By.CLASS_NAME,row_class)) and len(browser.find_elements(By.XPATH,current_row_path)) < 0 ):\n",
    "        current_lenght = len(browser.find_elements(By.CLASS_NAME,row_class))\n",
    "        scroll(sleep_time, browser)\n",
    "    if (len(browser.find_elements(By.XPATH,current_row_path)) > 0 ):\n",
    "        founded = True\n",
    "    return founded"
   ]
  },
  {
   "cell_type": "code",
   "execution_count": 46,
   "metadata": {},
   "outputs": [
    {
     "name": "stderr",
     "output_type": "stream",
     "text": [
      "[WDM] - \n",
      "\n",
      "[WDM] - ====== WebDriver manager ======\n",
      "[WDM] - Current google-chrome version is 95.0.4638\n",
      "[WDM] - Get LATEST driver version for 95.0.4638\n",
      "[WDM] - Driver [C:\\Users\\Reda\\.wdm\\drivers\\chromedriver\\win32\\95.0.4638.54\\chromedriver.exe] found in cache\n",
      "C:\\Users\\Reda\\AppData\\Local\\Temp/ipykernel_9480/2881200563.py:2: DeprecationWarning: executable_path has been deprecated, please pass in a Service object\n",
      "  browser = webdriver.Chrome(ChromeDriverManager().install())\n"
     ]
    }
   ],
   "source": [
    "#specify the path to chromedriver.exe (download and save on your computer)\n",
    "browser = webdriver.Chrome(ChromeDriverManager().install())\n",
    "\n",
    "#open the webpage\n",
    "browser.get(\"http://www.instagram.com\")\n",
    "\n",
    "login = \"redahaddan\"\n",
    "pwd = \"jPXO7Ih771kSM7d\"\n",
    "\n",
    "#target username\n",
    "username = WebDriverWait(browser, 10).until(EC.element_to_be_clickable((By.CSS_SELECTOR, \"input[name='username']\")))\n",
    "password = WebDriverWait(browser, 10).until(EC.element_to_be_clickable((By.CSS_SELECTOR, \"input[name='password']\")))\n",
    "\n",
    "#enter username and password\n",
    "username.clear()\n",
    "username.send_keys(login)\n",
    "password.clear()\n",
    "password.send_keys(pwd)\n",
    "\n",
    "#target the login button and click it\n",
    "button = WebDriverWait(browser, 2).until(EC.element_to_be_clickable((By.CSS_SELECTOR, \"button[type='submit']\"))).click()\n",
    "\n",
    "#We are logged in!"
   ]
  },
  {
   "cell_type": "code",
   "execution_count": 54,
   "metadata": {},
   "outputs": [
    {
     "name": "stdout",
     "output_type": "stream",
     "text": [
      "i : 1\n",
      "j : 1\n",
      "j : 2\n",
      "j : 3\n",
      "j : 4\n",
      "i : 2\n",
      "j : 1\n",
      "j : 2\n",
      "j : 3\n",
      "j : 4\n",
      "i : 3\n",
      "j : 1\n",
      "j : 2\n",
      "j : 3\n",
      "j : 4\n",
      "i : 4\n",
      "j : 1\n",
      "j : 2\n",
      "j : 3\n",
      "j : 4\n",
      "i : 5\n",
      "j : 1\n",
      "j : 2\n",
      "j : 3\n",
      "j : 4\n",
      "i : 6\n",
      "j : 1\n",
      "j : 2\n",
      "j : 3\n",
      "j : 4\n",
      "i : 7\n",
      "j : 1\n",
      "j : 2\n",
      "j : 3\n",
      "j : 4\n",
      "i : 8\n",
      "j : 1\n",
      "j : 2\n",
      "j : 3\n",
      "j : 4\n",
      "i : 9\n",
      "j : 1\n",
      "j : 2\n",
      "i : 10\n"
     ]
    }
   ],
   "source": [
    "\"\"\" browser.get(\"http://www.instagram.com/\"+login+\"/saved/\") \"\"\"\n",
    "\n",
    "browser.find_elements(By.XPATH,\"/html/body/div[1]/section/nav/div[2]/div/div/div[3]/div/div[6]/span/img\")[0].click()\n",
    "time.sleep(2)\n",
    "browser.find_elements(By.XPATH,\"/html/body/div[1]/section/nav/div[2]/div/div/div[3]/div/div[6]/div[2]/div[2]/div[2]/a[2]/div\")[0].click()\n",
    "\n",
    "founded = False\n",
    "\n",
    "time.sleep(5)\n",
    "\n",
    "sleep_time = 8\n",
    "\n",
    "collections_names = []\n",
    "collections_urls = {}\n",
    "\n",
    "i = 1\n",
    "while(True):\n",
    "    print('i : '+ str(i))\n",
    "    current_row_path = \"/html/body/div[1]/section/main/div/div[2]/div[2]/div/div/div[\"+str(i)+\"]\"\n",
    "    if len(browser.find_elements(By.XPATH, current_row_path)) > 0:\n",
    "        j = 1\n",
    "        while (True):\n",
    "            print('j : '+str(j))\n",
    "            time.sleep(3)\n",
    "            if len(browser.find_elements(By.XPATH,current_row_path+\"/div[\"+str(j)+\"]\")) > 0:\n",
    "                collections_names.append(browser.find_elements(By.XPATH,current_row_path+\"/div[\"+str(j)+\"]\"+\"/div/div/div[2]/div/h3\")[0].text)\n",
    "                browser.find_elements(By.XPATH,current_row_path+\"/div[\"+str(j)+\"]\")[0].click()\n",
    "                collections_urls[collections_names[-1]] = browser.current_url\n",
    "                browser.execute_script(\"window.history.go(-1)\")\n",
    "                j+=1\n",
    "                continue\n",
    "            break\n",
    "        i+=1\n",
    "        continue\n",
    "    else:\n",
    "        founded = scroll_end(current_row_path)\n",
    "        if(founded):\n",
    "            continue\n",
    "        else:\n",
    "            break"
   ]
  },
  {
   "cell_type": "code",
   "execution_count": 56,
   "metadata": {},
   "outputs": [
    {
     "name": "stdout",
     "output_type": "stream",
     "text": [
      "['hi-hats', 'Sample', 'Well being', 'spirit', 'Social', 'vocals', 'mixing', 'compression', 'vst', 'buisness & monet', 'work process', 'mastering', 'snare', 'flute project', 'drake', 'collab', 'ideas', 'guitar', 'collab', 'mid/side', 'paning', 'Ideas', 'masking', 'Towatch', 'live']\n",
      "https://www.instagram.com/redahaddan/saved/vocals/17972402038140754/\n"
     ]
    }
   ],
   "source": [
    "print(collections_names)\n",
    "print(collections_urls['vocals'])"
   ]
  }
 ],
 "metadata": {
  "interpreter": {
   "hash": "c8bf7ed05fbef5c9ff3345d142af8ad303ead8c4a9c90a99e7ad81acfc544e45"
  },
  "kernelspec": {
   "display_name": "Python 3.8.8 64-bit ('base': conda)",
   "name": "python3"
  },
  "language_info": {
   "codemirror_mode": {
    "name": "ipython",
    "version": 3
   },
   "file_extension": ".py",
   "mimetype": "text/x-python",
   "name": "python",
   "nbconvert_exporter": "python",
   "pygments_lexer": "ipython3",
   "version": "3.8.8"
  }
 },
 "nbformat": 4,
 "nbformat_minor": 2
}
