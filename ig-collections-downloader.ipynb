{
 "cells": [
  {
   "cell_type": "code",
   "execution_count": 48,
   "metadata": {},
   "outputs": [],
   "source": [
    "from instaloader import *;"
   ]
  },
  {
   "cell_type": "code",
   "execution_count": 61,
   "metadata": {},
   "outputs": [],
   "source": [
    "L = instaloader.Instaloader(save_metadata=False, download_video_thumbnails=False)\n",
    "\n",
    "USER = \"heal.hy\"\n",
    "PASSWORD = \"y4yK5V07-WNSd4C\"\n",
    "\n",
    "L.login(USER, PASSWORD)"
   ]
  },
  {
   "cell_type": "code",
   "execution_count": 62,
   "metadata": {},
   "outputs": [
    {
     "name": "stdout",
     "output_type": "stream",
     "text": [
      "[BIG SINGING CONTEST ! 🤩 Avis …] heal.hy\\2021-07-31_17-48-11_UTC.mp4 \n"
     ]
    },
    {
     "data": {
      "text/plain": [
       "True"
      ]
     },
     "execution_count": 62,
     "metadata": {},
     "output_type": "execute_result"
    }
   ],
   "source": [
    "SHORTCODE = \"CSABwQMjy6T\"\n",
    "post = Post.from_shortcode(L.context, SHORTCODE)\n",
    "L.download_post(post, \"heal.hy\")"
   ]
  }
 ],
 "metadata": {
  "interpreter": {
   "hash": "c8bf7ed05fbef5c9ff3345d142af8ad303ead8c4a9c90a99e7ad81acfc544e45"
  },
  "kernelspec": {
   "display_name": "Python 3.8.8 64-bit ('base': conda)",
   "name": "python3"
  },
  "language_info": {
   "codemirror_mode": {
    "name": "ipython",
    "version": 3
   },
   "file_extension": ".py",
   "mimetype": "text/x-python",
   "name": "python",
   "nbconvert_exporter": "python",
   "pygments_lexer": "ipython3",
   "version": "3.8.8"
  },
  "orig_nbformat": 4
 },
 "nbformat": 4,
 "nbformat_minor": 2
}
